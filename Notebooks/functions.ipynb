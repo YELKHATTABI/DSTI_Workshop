{
 "cells": [
  {
   "cell_type": "markdown",
   "metadata": {},
   "source": [
    "# Functions"
   ]
  },
  {
   "cell_type": "markdown",
   "metadata": {},
   "source": [
    "## General structure \n",
    "```{python}\n",
    "def function_name(first_parameter:type, second_parameter:type, ... ):\n",
    "    what the fucntion does with paramters\n",
    "    return value (if function has a return)\n",
    "```\n",
    "\n",
    "We call a function by : `varaiable_to_save_retrun_value = function_name(first_parameter = x, second_parameter = y)`"
   ]
  },
  {
   "cell_type": "code",
   "execution_count": null,
   "metadata": {},
   "outputs": [],
   "source": [
    "#hello world \n",
    "# not that this function has no parameter, and has no retrun value\n",
    "# when a function has no return value it is named procedure\n",
    "def print_hello_world():\n",
    "    print(\"Hellow World\")"
   ]
  },
  {
   "cell_type": "code",
   "execution_count": null,
   "metadata": {},
   "outputs": [],
   "source": [
    "print_hello_world()"
   ]
  },
  {
   "cell_type": "code",
   "execution_count": null,
   "metadata": {},
   "outputs": [],
   "source": [
    "def add_two_elements(a:float,b:float)-> float:\n",
    "    \"\"\"\n",
    "    return the sum of a and b\n",
    "    a: frist number to add\n",
    "    b: second number to add\n",
    "    \"\"\"\n",
    "    return a+b"
   ]
  },
  {
   "cell_type": "code",
   "execution_count": null,
   "metadata": {},
   "outputs": [],
   "source": [
    "add_two_elements?"
   ]
  },
  {
   "cell_type": "code",
   "execution_count": null,
   "metadata": {},
   "outputs": [],
   "source": [
    "sum_value = add_two_elements(1,14)"
   ]
  },
  {
   "cell_type": "code",
   "execution_count": null,
   "metadata": {},
   "outputs": [],
   "source": [
    "sum_value"
   ]
  },
  {
   "cell_type": "code",
   "execution_count": null,
   "metadata": {},
   "outputs": [],
   "source": [
    "add_two_elements(\"a\" , 5)"
   ]
  },
  {
   "cell_type": "code",
   "execution_count": null,
   "metadata": {},
   "outputs": [],
   "source": [
    "add_two_elements(\"a\" , \"b\")"
   ]
  },
  {
   "cell_type": "code",
   "execution_count": null,
   "metadata": {},
   "outputs": [],
   "source": [
    "l = [1,2]"
   ]
  },
  {
   "cell_type": "code",
   "execution_count": null,
   "metadata": {},
   "outputs": [],
   "source": [
    "def add_list_elements(l):\n",
    "    pass\n",
    "    # return the sum of the element of a list"
   ]
  },
  {
   "cell_type": "code",
   "execution_count": null,
   "metadata": {},
   "outputs": [],
   "source": [
    "def add_odd_list_elements(l):\n",
    "    pass\n",
    "    # return the sum of odd elements of a list"
   ]
  },
  {
   "cell_type": "code",
   "execution_count": null,
   "metadata": {},
   "outputs": [],
   "source": [
    "def multistep_function(l):\n",
    "    new_list = []\n",
    "    for e in l:\n",
    "        if e > 5:\n",
    "            new_list.append(e**2)\n",
    "        elif e > 3:\n",
    "            new_list.append(e**3)\n",
    "        else:\n",
    "            new_list.append(e**5)\n",
    "    return new_list\n",
    "            \n",
    "\n",
    "l = [54,2,35,4,7,8,2,5,6,9,1,4,3,5,11,8,7,3]"
   ]
  },
  {
   "cell_type": "code",
   "execution_count": null,
   "metadata": {},
   "outputs": [],
   "source": [
    "multistep_function(l)"
   ]
  },
  {
   "cell_type": "code",
   "execution_count": null,
   "metadata": {},
   "outputs": [],
   "source": []
  }
 ],
 "metadata": {
  "kernelspec": {
   "display_name": "Python 3",
   "language": "python",
   "name": "python3"
  },
  "language_info": {
   "codemirror_mode": {
    "name": "ipython",
    "version": 3
   },
   "file_extension": ".py",
   "mimetype": "text/x-python",
   "name": "python",
   "nbconvert_exporter": "python",
   "pygments_lexer": "ipython3",
   "version": "3.7.3"
  }
 },
 "nbformat": 4,
 "nbformat_minor": 4
}
